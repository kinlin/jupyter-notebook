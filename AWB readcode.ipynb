{
 "cells": [
  {
   "cell_type": "markdown",
   "metadata": {},
   "source": [
    "# 1. Affline Transform of AWB map"
   ]
  },
  {
   "cell_type": "markdown",
   "metadata": {},
   "source": [
    "## AWB GetFCMMappedOutput"
   ]
  },
  {
   "cell_type": "markdown",
   "metadata": {},
   "source": [
    "### GetRelatedRefLine"
   ]
  },
  {
   "cell_type": "code",
   "execution_count": 6,
   "metadata": {},
   "outputs": [],
   "source": [
    "import math\n",
    "import numpy as np\n",
    "import scipy as sp\n",
    "import matplotlib.pyplot as plt\n",
    "from __future__ import division\n",
    "\n",
    "#FcmInput [r/g, b/g]\n",
    "def GetRelatedRefLine(FcmInput, refPoint):\n",
    "    x1 = FcmInput[0]\n",
    "    y1 = FcmInput[1]\n",
    "    min_dist0 = 10000\n",
    "    min_dist1 = 10000\n",
    "\n",
    "    p1 = 0\n",
    "    p2 = 0\n",
    "    for i in range(len(refPoint)):\n",
    "        x2 = refPoint[i][0]\n",
    "        y2 = refPoint[i][1]\n",
    "        diff = math.sqrt( (x1-x2)*(x1-x2) + (y1-y2)*(y1-y2) )\n",
    "        if(diff < min_dist0):\n",
    "            p2 = p1\n",
    "            p1 = i\n",
    "            min_dist1 = min_dist0\n",
    "            min_dist0 = diff\n",
    "        elif(diff < min_dist1):\n",
    "            p2 = i\n",
    "            min_dist1 = diff\n",
    "    print \"relate ref point: \"\n",
    "    print p1, p2\n",
    "    P = [0,0]\n",
    "    P[0] = p1\n",
    "    P[1] = p2\n",
    "    return P\n",
    "    \n",
    "#peerDecision [r/g, b/g]\n",
    "#p1 is the diff min refpoint index\n",
    "#p2 is the second min diff\n",
    "\n",
    "def DualcamAfflineTransform(peerDecision, p1, p2):\n",
    "    coeff = [0, 0, 0, 0]\n",
    "    slaveRefPt_p1 = slaveRefPoint[p1]\n",
    "    slaveRefPt_p2 = slaveRefPoint[p2]\n",
    "    MRefPt_p1 = refPoint[p1]\n",
    "    MRefPt_p2 = refPoint[p2]\n",
    "\n",
    "#    currentRefPts_p1 = slaveRefPoint[p1]\n",
    "#    currentRefPts_p2 = slaveRefPoint[p2]\n",
    "#    peerRefPt_p1 = refPoint[p1]\n",
    "#    peerRefPt_p2 = refPoint[p2]\n",
    "    \n",
    "    dx1 = MRefPt_p2[0] - MRefPt_p1[0]\n",
    "    dx2 = slaveRefPt_p2[0] - slaveRefPt_p1[0]\n",
    "    dy1 = MRefPt_p2[1] - MRefPt_p1[0]\n",
    "    dy2 = slaveRefPt_p2[0] - slaveRefPt_p1[0]\n",
    "    \n",
    "    coeff[0] = (dx1*dx2 + dy1*dy2)/(dx1*dx1+dy1*dy1)\n",
    "    coeff[1] = (dy1*dx2 - dx1*dy2)/(dx1*dx1+dy1*dy1)\n",
    "    coeff[2] = slaveRefPt_p1[0] - coeff[0]* MRefPt_p1[0] - coeff[1] * MRefPt_p1[1]\n",
    "    coeff[3] = slaveRefPt_p1[1] + coeff[1]* MRefPt_p1[0] - coeff[0] * MRefPt_p1[1]\n",
    "    \n",
    "    FcmOutput = [0,0]\n",
    "    FcmOutput[0] = coeff[0] * peerDecision[0] + coeff[1] * peerDecision[1] + coeff[2]\n",
    "    FcmOutput[1] = (-1)*coeff[1] * peerDecision[0] + coeff[0] * peerDecision[1] + coeff[3]\n",
    "    print \"current decision FcmOutput: \"\n",
    "    print FcmOutput\n",
    "    FcmOutput[0] = round(FcmOutput[0], 3)\n",
    "    FcmOutput[1] = round(FcmOutput[1], 3)\n",
    "    return FcmOutput"
   ]
  },
  {
   "cell_type": "code",
   "execution_count": 7,
   "metadata": {},
   "outputs": [],
   "source": [
    "FcmInput = [0.48,0.48]\n",
    "refPoint = [[0.41,0.82], [0.43, 0.72], [0.55, 0.65], [0.61, 0.45], [0.70, 0.52], [0.81, 0.39], [1.08, 0.28]]\n",
    "refPointComment = ['0-D75', '1-D65', '2-D50', '3-CWF','4-TL84','5-A','6-H']\n",
    "\n",
    "slaveRefPoint = [[0.3,0.7], [0.4, 0.65], [0.48, 0.57], [0.52, 0.38], [0.65, 0.4], [0.72, 0.3], [0.98, 0.19]]\n",
    "\n",
    "FcmOutput = [0,0]"
   ]
  },
  {
   "cell_type": "code",
   "execution_count": 8,
   "metadata": {
    "scrolled": true
   },
   "outputs": [
    {
     "name": "stdout",
     "output_type": "stream",
     "text": [
      "relate ref point: \n",
      "3 2\n",
      "3 2\n",
      "input decision: \n",
      "[0.48, 0.48]\n",
      "refPoint: \n",
      "[0.61, 0.45] [0.55, 0.65]\n",
      "slaveRefPoint\n",
      "[0.52, 0.38] [0.48, 0.57]\n",
      "current decision FcmOutput: \n",
      "[0.47692307692307706, 0.2846153846153845]\n",
      "0.477 0.285\n"
     ]
    }
   ],
   "source": [
    "p = GetRelatedRefLine(FcmInput, refPoint)\n",
    "print p[0], p[1]\n",
    "print \"input decision: \"\n",
    "print FcmInput\n",
    "print \"refPoint: \"\n",
    "print refPoint[p[0]],refPoint[p[1]]\n",
    "print \"slaveRefPoint\"\n",
    "print slaveRefPoint[p[0]], slaveRefPoint[p[1]]\n",
    "FcmOutput = DualcamAfflineTransform(FcmInput, p[0], p[1])\n",
    "print FcmOutput[0], FcmOutput[1]"
   ]
  },
  {
   "cell_type": "code",
   "execution_count": null,
   "metadata": {},
   "outputs": [],
   "source": []
  },
  {
   "cell_type": "markdown",
   "metadata": {},
   "source": [
    "## use opencv calc afflineTransform\n"
   ]
  },
  {
   "cell_type": "code",
   "execution_count": 36,
   "metadata": {},
   "outputs": [
    {
     "name": "stdout",
     "output_type": "stream",
     "text": [
      "3 2\n",
      "input decision: \n",
      "[0.48, 0.48]\n",
      "refPoint: \n",
      "[0.61, 0.45] [0.55, 0.65]\n",
      "slaveRefPoint\n",
      "[0.52, 0.38] [0.48, 0.57]\n",
      "[[0.61, 0.45], [0.55, 0.65]]\n",
      "[[0.52, 0.38], [0.48, 0.57]]\n",
      "[[ 0.81879187  0.04563762  0.        ]\n",
      " [-0.06375841  0.93087252  0.        ]]\n",
      "0.414926154754 0.416214775578\n"
     ]
    }
   ],
   "source": [
    "import cv2\n",
    "print p[0], p[1]\n",
    "print \"input decision: \"\n",
    "print FcmInput\n",
    "print \"refPoint: \"\n",
    "print refPoint[p[0]],refPoint[p[1]]\n",
    "print \"slaveRefPoint\"\n",
    "print slaveRefPoint[p[0]], slaveRefPoint[p[1]]\n",
    "\n",
    "print [refPoint[p[0]], refPoint[p[1]]]\n",
    "print [slaveRefPoint[p[0]], slaveRefPoint[p[1]]]\n",
    "pt_ref = np.float32([refPoint[p[0]], refPoint[p[1]], [0,0]])\n",
    "pt_slave = np.float32([slaveRefPoint[p[0]], slaveRefPoint[p[1]], [0,0]])\n",
    "\n",
    "AfflineTransform = cv2.getAffineTransform(pt_ref, pt_slave)\n",
    "\n",
    "print AfflineTransform\n",
    "\n",
    "\n",
    "newPoint_x = AfflineTransform[0][0]*FcmInput[0] + AfflineTransform[0][1]*FcmInput[1]\n",
    "newPoint_y = AfflineTransform[1][0]*FcmInput[0] + AfflineTransform[1][1]*FcmInput[1]\n",
    "print newPoint_x, newPoint_y\n"
   ]
  },
  {
   "cell_type": "code",
   "execution_count": 39,
   "metadata": {},
   "outputs": [
    {
     "name": "stdout",
     "output_type": "stream",
     "text": [
      "[0.41, 0.43, 0.55, 0.61, 0.7, 0.81, 1.08] [0.82, 0.72, 0.65, 0.45, 0.52, 0.39, 0.28]\n",
      "[0.3, 0.4, 0.48, 0.52, 0.65, 0.72, 0.98] [0.7, 0.65, 0.57, 0.38, 0.4, 0.3, 0.19]\n"
     ]
    },
    {
     "data": {
      "image/png": "[encoded data removed]",
      "text/plain": [
       "<matplotlib.figure.Figure at 0xc85c4f0>"
      ]
     },
     "metadata": {},
     "output_type": "display_data"
    }
   ],
   "source": [
    "x_data=[]\n",
    "y_data=[]\n",
    "#master refPoint\n",
    "for i in range(len(refPoint)):\n",
    "    x_data.append(refPoint[i][0])\n",
    "    y_data.append(refPoint[i][1])\n",
    "#x_data.append(FcmInput[0])\n",
    "#y_data.append(FcmInput[1])\n",
    "print x_data,y_data\n",
    "\n",
    "s_x_data = []\n",
    "s_y_data = []\n",
    "#slave refPoint\n",
    "\n",
    "for i in range(len(slaveRefPoint)):\n",
    "    s_x_data.append(slaveRefPoint[i][0])\n",
    "    s_y_data.append(slaveRefPoint[i][1])\n",
    "#s_x_data.append(FcmOutput[0])\n",
    "#s_y_data.append(FcmOutput[1])\n",
    "print s_x_data, s_y_data\n",
    "    \n",
    "fig = plt.figure()\n",
    "ax = fig.add_subplot(111)\n",
    "\n",
    "plt.plot(x_data, y_data, 'r-o', label='RefPoint')\n",
    "plt.plot(FcmOutput[0], FcmOutput[1], 'bs', label='Ref Decision')\n",
    "\n",
    "plt.plot(s_x_data, s_y_data, 'b--s', label='Slave RefPoint')\n",
    "plt.plot(FcmInput[0], FcmInput[1], 'rs', label='Slave Decision')\n",
    "\n",
    "plt.plot(newPoint_x, newPoint_y, 'go')\n",
    "\n",
    "for i in range(len(refPoint)):\n",
    "    ax.annotate(refPointComment[i], refPoint[i])\n",
    "    ax.annotate(refPointComment[i], slaveRefPoint[i])\n",
    "ax.annotate('Master decision', FcmInput)\n",
    "ax.annotate('Slave decision', FcmOutput)\n",
    "ax.annotate('Apply the cv Transform', (newPoint_x, newPoint_y),(newPoint_x-0.2, newPoint_y-0.2),horizontalalignment='left',\n",
    "            arrowprops=dict(facecolor='black', shrink=0.02))\n",
    "\n",
    "plt.xlabel('R/G')\n",
    "plt.ylabel('B/G')\n",
    "plt.show()"
   ]
  },
  {
   "cell_type": "code",
   "execution_count": null,
   "metadata": {},
   "outputs": [],
   "source": []
  }
 ],
 "metadata": {
  "kernelspec": {
   "display_name": "Python 2",
   "language": "python",
   "name": "python2"
  },
  "language_info": {
   "codemirror_mode": {
    "name": "ipython",
    "version": 2
   },
   "file_extension": ".py",
   "mimetype": "text/x-python",
   "name": "python",
   "nbconvert_exporter": "python",
   "pygments_lexer": "ipython2",
   "version": "2.7.14"
  }
 },
 "nbformat": 4,
 "nbformat_minor": 2
}
