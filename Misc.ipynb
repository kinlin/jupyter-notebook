{
 "cells": [
  {
   "cell_type": "code",
   "execution_count": null,
   "metadata": {},
   "outputs": [],
   "source": [
    "#!/bin/python\n",
    "import numpy as np\n",
    "import matplotlib.pyplot as plt\n",
    "\n",
    "x=[i for i in range(1,33)]\n",
    "y=[0,1]\n",
    "\n",
    "no_gamma=[0 , 512   , 1024  , 1536  , 2048  , 2560  , 3072  , 3584  ,\n",
    "    4096    , 4608  , 5120  , 5632  , 6144  , 6656  , 7168  , 7680  ,\n",
    "    8192    , 8704  , 9216  , 9728  , 10240 , 10752 , 11264 , 11776 ,\n",
    "    12288   , 12800 , 13312 , 13824 , 14336 , 14848 , 15360 , 15872\n",
    "]\n",
    "#/* 1/2.2 power*/\n",
    "gamma_table_preset1 =[0 , 3390  , 4646  , 5586  , 6367  , 7047  , 7655  , 8211  ,\n",
    "                 8725   , 9205  , 9656  , 10084 , 10491 , 10879 , 11252 , 11610 ,\n",
    "                 11956  , 12290 , 12614 , 12927 , 13232 , 13529 , 13818 , 14100 ,\n",
    "                 14376  , 14645 , 14908 , 15166 , 15419 , 15667 , 15910 , 16149 ,\n",
    "];\n",
    "\n",
    "\n",
    "plt.figure()\n",
    "plt.plot(x,no_gamma, 'r-o', label='no-gamma')\n",
    "plt.plot(x,gamma_table_preset1, 'g-o', label='gamma_table_preset1')\n",
    "\n",
    "\n",
    "plt.show(\"abc.jpg\")\n"
   ]
  },
  {
   "cell_type": "code",
   "execution_count": 3,
   "metadata": {},
   "outputs": [],
   "source": [
    "import cv2"
   ]
  },
  {
   "cell_type": "code",
   "execution_count": null,
   "metadata": {},
   "outputs": [],
   "source": []
  }
 ],
 "metadata": {
  "kernelspec": {
   "display_name": "Python 2",
   "language": "python",
   "name": "python2"
  },
  "language_info": {
   "codemirror_mode": {
    "name": "ipython",
    "version": 2
   },
   "file_extension": ".py",
   "mimetype": "text/x-python",
   "name": "python",
   "nbconvert_exporter": "python",
   "pygments_lexer": "ipython2",
   "version": "2.7.14"
  }
 },
 "nbformat": 4,
 "nbformat_minor": 2
}
